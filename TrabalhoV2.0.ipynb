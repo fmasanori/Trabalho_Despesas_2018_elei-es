{
 "cells": [
  {
   "cell_type": "code",
   "execution_count": 3,
   "metadata": {},
   "outputs": [
    {
     "data": {
      "text/plain": [
       "(1801491, 16)"
      ]
     },
     "execution_count": 3,
     "metadata": {},
     "output_type": "execute_result"
    }
   ],
   "source": [
    "import pandas as pd\n",
    "import seaborn as sb\n",
    "low_memory=False\n",
    "%matplotlib inline\n",
    "pd.options.display.max_columns = 80\n",
    "pd.options.display.max_rows = 90\n",
    "\n",
    "filename = 'despesa_2018.csv'\n",
    "df = pd.read_csv(filename)\n",
    "\n",
    "#Exibir o total de linhas e colunas\n",
    "df.shape\n"
   ]
  },
  {
   "cell_type": "code",
   "execution_count": 31,
   "metadata": {},
   "outputs": [
    {
     "name": "stdout",
     "output_type": "stream",
     "text": [
      "<class 'pandas.core.frame.DataFrame'>\n",
      "RangeIndex: 1801491 entries, 0 to 1801490\n",
      "Data columns (total 16 columns):\n",
      "cpf_cnpj_fornecedor           float64\n",
      "nome_fornecedor               object\n",
      "cpf_cnpj_doador_originario    float64\n",
      "nome_doador_originario        float64\n",
      "numero_recibo                 object\n",
      "numero_documento              object\n",
      "valor                         float64\n",
      "data                          object\n",
      "especie_recurso               object\n",
      "tipo                          object\n",
      "descricao                     object\n",
      "especie_documento             object\n",
      "beneficiado_contratante       object\n",
      "numero_sequencial             int64\n",
      "id_prestador                  int64\n",
      "id_entrega                    int64\n",
      "dtypes: float64(4), int64(3), object(9)\n",
      "memory usage: 158.1+ MB\n"
     ]
    }
   ],
   "source": [
    "low_memory=False\n",
    "%matplotlib inline\n",
    "pd.options.display.max_columns = 80\n",
    "pd.options.display.max_rows = 90\n",
    "\n",
    "filename = 'despesa_2018.csv'\n",
    "df = pd.read_csv(filename)\n",
    "\n",
    "#Descrever o nome de todas as colunas\n",
    "df.info()"
   ]
  },
  {
   "cell_type": "code",
   "execution_count": 35,
   "metadata": {},
   "outputs": [
    {
     "data": {
      "text/plain": [
       "descricao\n",
       " # CONTRATO INTERROMPIDO NA METADE #                      1\n",
       "PACOTE DE ARTES GRAFICAS CAMPANHA 2018                    1\n",
       "PACOTE DE AGUA MINERAL E GELO                             1\n",
       "PACOTE DE AGUA 350ML                                      1\n",
       "PACOTE DE AGUA 330 ML COM 24 UNIDADES                     1\n",
       "PACOTE DE ABRAÇADEIRAS DE 20MM                            1\n",
       "PACOTE DE 500ML AGUA COM GAS LINDOYA                      1\n",
       "PACOTE DE 5 EDIÇÕES DE 1/4 DE PAGINA                      1\n",
       "PACOTE DE 34 IMAGENS· SERVIÇOS DE DESIGN                  1\n",
       "PACOTE DE 300 MIL MENSAGENS                               1\n",
       "PACOTE DE 100 MIL ENVIOS DE MENSAGENS                     1\n",
       "PACOTE DE 100 MIL DISPAROS DE MENSAGENS MULTIMIDIA        1\n",
       "PACOTE DE 10 MIL ENVIOS DE MENSAGENS                      1\n",
       "PACOTE CROWDFUNDING                                       1\n",
       "PACOTE CRIAÇÃO LAY OUT JINGLE· DIREÇÃO ARTE MIDIA         1\n",
       "PACOTE CORPORATE PREMIUM                                  1\n",
       "PACOTE COPO DESCARTÁVEL                                   1\n",
       "PACOTE COPO 500ML COPOPLAST 100 UNI TRASP                 1\n",
       "PACOTE COPO 180ML                                         1\n",
       "PACOTE COOFE BREAK - EQUIPE                               1\n",
       "PACOTE COM 8.000 MENSAGENS INSTANTANEAS (SMS)             1\n",
       "PACOTE COM 4 PAPEL HIGIENICO BRANCO                       1\n",
       "PACOTE COM 30 MIL CARTAS 27X29CM                          1\n",
       "PACOTE COM 200 COPOS 200 ML                               1\n",
       "PACOTE COM 100 COPOS 50 ML                                1\n",
       "PACOTE COM 10 ESPONJA DUPLA FACE AMAR TININDO             1\n",
       "PACOTE CLIPS NR. 20 GALVANIZADO (LATA C 500G) SPI         1\n",
       "PACOTE CAFE PHOFETA EXTRA FORTE 500G                      1\n",
       "PACOTE DE BALÃO                                           1\n",
       "PACOTE CAFE BRASILEIRO 250G                               1\n",
       "PACOTE DE BEBIDAS OPÇAO 2                                 1\n",
       "PACOTE DE BOLACHA                                         1\n",
       "PACOTE DE LINK TV                                         1\n",
       "PACOTE DE LINK PARA TV                                    1\n",
       "PACOTE DE LIGAS                                           1\n",
       "PACOTE DE JANTA                                           1\n",
       "PACOTE DE IMPULSIONAMENTO DE CONTEÚDO NO FECEBOOK         1\n",
       "PACOTE DE IDENTIDADE VISUAL DE CAMPANHA                   1\n",
       "PACOTE DE GRAMPO TRILHO PLASTICO BRANCO 80MM              1\n",
       "PACOTE DE GOMINHA                                         1\n",
       "PACOTE DE GELO 5KG                                        1\n",
       "PACOTE DE FOLHA A4                                        1\n",
       "PACOTE DE FOLHA                                           1\n",
       "PACOTE DE FITA ADESIVA PP SCOTCH                          1\n",
       "PACOTE DE FACEBOCK                                        1\n",
       "                                                      ...  \n",
       "ADESIVO PERFURADO                                      2174\n",
       "PEDAGIO                                                2177\n",
       "SERVIÇOS PRESTADOS                                     2277\n",
       "DIVULGADOR DE CAMPANHA                                 2322\n",
       "PRESTAÇÃO DE SERVIÇOS NA CAMPANHA ELEITORAL            2328\n",
       "GASOLINA COMUM                                         2355\n",
       "TARIFA TED                                             2356\n",
       "SERVIÇO DE MILITANCIA                                  2429\n",
       "CONTRATO                                               2500\n",
       "CONTRATO DE PRESTAÇÃO DE SERVIÇOS                      2560\n",
       "COORDENADOR                                            2615\n",
       "PRESTAÇÃO DE SERVIÇO                                   2656\n",
       "SERVIÇO DE DIVULGAÇÃO DE CAMPANHA                      2703\n",
       "ETANOL COMUM                                           2736\n",
       "COMBUSTIVEL                                            2840\n",
       "TARIFA DOC/TED ELETRÔNICO                              3108\n",
       "PRESTAÇÃO DE SERVIÇO CABO ELEITORAL                    3172\n",
       "MOBILIZAÇÃO DE CAMPANHA - FORMIGA                      3284\n",
       "PRESTAÇÃO DE SERVIÇOS                                  3435\n",
       "TARIFA BANCÁRIA                                        3482\n",
       "GASOLINA ADITIVADA                                     3617\n",
       "SERVIÇO DE CABO ELEITORAL                              3925\n",
       "ATIVIDADE DE MILITANCIA                                3966\n",
       "TAR DOC/TED ELETRONICO                                 4036\n",
       "DESPESA COM PESSOAL                                    4172\n",
       "PRESTAÇÃO DE SERVIÇO DE CABO ELEITORAL                 4200\n",
       "CABO ELEITORAL                                         4459\n",
       "ETANOL                                                 4594\n",
       "SERVIÇOS DE CABO ELEITORAL                             4757\n",
       "MILITANCIA DE RUA                                      4964\n",
       "Taxa Administração Financiamento Coletivo              5285\n",
       "PRESTAÇÃO DE SERVIÇOS DE CABO ELEITORAL                5334\n",
       "GASOLINA                                               5363\n",
       "SERVIÇO DE PANFLETAGEM                                 5686\n",
       "TARIFA                                                 5762\n",
       "TARIFA DOC/TED                                         6435\n",
       "TARIFA DOC/TED ELETRONICO                              6445\n",
       "SANTINHOS                                              6648\n",
       "MILITANCIA                                             6809\n",
       "SERVIÇOS DE PANFLETAGEM                                7400\n",
       "ATIVISTA                                               7635\n",
       "TARIFA BANCARIA                                       11180\n",
       "PANFLETAGEM                                           25058\n",
       "GASOLINA COMUM                                        26770\n",
       "CABO ELEITORAL                                        56129\n",
       "Length: 549116, dtype: int64"
      ]
     },
     "execution_count": 35,
     "metadata": {},
     "output_type": "execute_result"
    }
   ],
   "source": [
    "low_memory=False\n",
    "%matplotlib inline\n",
    "pd.options.display.max_columns = 80\n",
    "pd.options.display.max_rows = 90\n",
    "\n",
    "filename = 'despesa_2018.csv'\n",
    "df = pd.read_csv(filename)\n",
    "\n",
    "#Agrupar os gastos dos politicos nas eleições 2018 por descrição\n",
    "df.groupby('descricao').size().sort_values()"
   ]
  },
  {
   "cell_type": "code",
   "execution_count": 36,
   "metadata": {},
   "outputs": [
    {
     "data": {
      "text/plain": [
       "300.0    1154\n",
       "477.0    1055\n",
       "500.0     892\n",
       "222.6     473\n",
       "238.5     338\n",
       "Name: valor, dtype: int64"
      ]
     },
     "execution_count": 36,
     "metadata": {},
     "output_type": "execute_result"
    }
   ],
   "source": [
    "low_memory=False\n",
    "%matplotlib inline\n",
    "pd.options.display.max_columns = 80\n",
    "pd.options.display.max_rows = 90\n",
    "\n",
    "filename = 'despesa_2018.csv'\n",
    "\n",
    "#Filtrar os gastos pelo valor com a Descrição 'ativista' somando o número de ocorrências com determinado valor\n",
    "df.query('descricao == \"ATIVISTA\"')['valor'].value_counts().head()"
   ]
  },
  {
   "cell_type": "code",
   "execution_count": 6,
   "metadata": {},
   "outputs": [
    {
     "data": {
      "text/plain": [
       "500.0     1544\n",
       "1000.0     704\n",
       "200.0      493\n",
       "300.0      355\n",
       "600.0      341\n",
       "Name: valor, dtype: int64"
      ]
     },
     "execution_count": 6,
     "metadata": {},
     "output_type": "execute_result"
    }
   ],
   "source": [
    "low_memory=False\n",
    "%matplotlib inline\n",
    "pd.options.display.max_columns = 80\n",
    "pd.options.display.max_rows = 90\n",
    "df = pd.read_csv(filename)\n",
    "\n",
    "filename = 'despesa_2018.csv'\n",
    "\n",
    "#Filtrar os gastos pelo valor com a Descrição 'militancia' somando o número de ocorrências com determinado valor\n",
    "df.query('descricao == \"MILITANCIA\"')['valor'].value_counts().head()"
   ]
  },
  {
   "cell_type": "code",
   "execution_count": 29,
   "metadata": {
    "scrolled": false
   },
   "outputs": [
    {
     "data": {
      "text/plain": [
       "<matplotlib.axes._subplots.AxesSubplot at 0x1b149b30>"
      ]
     },
     "execution_count": 29,
     "metadata": {},
     "output_type": "execute_result"
    },
    {
     "data": {
      "image/png": "[encoded data removed]",
      "text/plain": [
       "<Figure size 720x360 with 1 Axes>"
      ]
     },
     "metadata": {
      "needs_background": "light"
     },
     "output_type": "display_data"
    }
   ],
   "source": [
    "#Geração de grafico com a descrição dos 13 maiores gastos que os politicos tiveram nas eleições 2018\n",
    "\n",
    "df.groupby('descricao').size().sort_values().tail(13).plot(title='Gastos mais frequentes por politicos nas eleições 2018', kind='barh', figsize=(10,5))"
   ]
  },
  {
   "cell_type": "code",
   "execution_count": 26,
   "metadata": {
    "scrolled": false
   },
   "outputs": [
    {
     "name": "stdout",
     "output_type": "stream",
     "text": [
      "    Numero total de ativista pagos por politicos nas eleições 2018: 7635\n"
     ]
    },
    {
     "data": {
      "image/png": "[encoded data removed]",
      "text/plain": [
       "<Figure size 720x360 with 1 Axes>"
      ]
     },
     "metadata": {
      "needs_background": "light"
     },
     "output_type": "display_data"
    }
   ],
   "source": [
    "low_memory=False\n",
    "%matplotlib inline\n",
    "pd.options.display.max_columns = 80\n",
    "pd.options.display.max_rows = 90\n",
    "df = pd.read_csv(filename)\n",
    "\n",
    "filename = 'despesa_2018.csv'\n",
    "\n",
    "#Função para retornar na tela a soma total de \"Ativistas\" que foram beneficiados com \"Salario\" politico    \n",
    "def PRINT_ATIVISTA(query=None):\n",
    "    if query:\n",
    "        df_tmp = df.query(query)\n",
    "    else:\n",
    "        df_tmp = df\n",
    "    total_rows = len(df_tmp)\n",
    "    unique_rows = len(df_tmp.groupby(['descricao']))\n",
    "    unique_rows_same_date = len(df_tmp.groupby(['valor']))\n",
    "    reducao_fila = (total_rows - unique_rows) / total_rows\n",
    "    print('    Numero total de ativista pagos por politicos nas eleições 2018:', total_rows)\n",
    "\n",
    "\n",
    "#Geração de grafico Ativistas Pagos por politicos nas eleições 2018, retornando valor pago e quantidade de beneficiarios\n",
    "df.query('descricao == \"ATIVISTA\"')['valor'].value_counts().head().plot(title='Ativistas Pagos por politicos nas eleições 2018', kind='barh', figsize=(10,5))\n",
    "\n",
    "#Definindo descrição do Eixo X do grafico\n",
    "plt.xlabel(\"Beneficiarios que receberam o valor\")\n",
    "\n",
    "#Definindo descrição do Eixo Y do grafico\n",
    "plt.ylabel(\"Valor pago aos beneficiarios\")\n",
    "\n",
    "#Chamando a função\n",
    "PRINT_ATIVISTA('descricao == \"ATIVISTA\"')"
   ]
  },
  {
   "cell_type": "code",
   "execution_count": 27,
   "metadata": {},
   "outputs": [
    {
     "name": "stdout",
     "output_type": "stream",
     "text": [
      "    Numero total de militantes pagos por politicos nas eleições 2018: 6809\n"
     ]
    },
    {
     "data": {
      "image/png": "[encoded data removed]",
      "text/plain": [
       "<Figure size 720x360 with 1 Axes>"
      ]
     },
     "metadata": {
      "needs_background": "light"
     },
     "output_type": "display_data"
    }
   ],
   "source": [
    "low_memory=False\n",
    "%matplotlib inline\n",
    "pd.options.display.max_columns = 80\n",
    "pd.options.display.max_rows = 90\n",
    "df = pd.read_csv(filename)\n",
    "\n",
    "filename = 'despesa_2018.csv'\n",
    "\n",
    "#Função para retornar na tela a soma total de \"Militantes\" que foram beneficiados com \"Salario\" politico\n",
    "def PRINT_MILITANTE(query=None):\n",
    "    if query:\n",
    "        df_tmp = df.query(query)\n",
    "    else:\n",
    "        df_tmp = df\n",
    "    total_rows = len(df_tmp)\n",
    "    unique_rows = len(df_tmp.groupby(['descricao']))\n",
    "    unique_rows_same_date = len(df_tmp.groupby(['valor']))\n",
    "    reducao_fila = (total_rows - unique_rows) / total_rows\n",
    "    print('    Numero total de militantes pagos por politicos nas eleições 2018:', total_rows)\n",
    "\n",
    "#Geração de grafico Ativistas Pagos por politicos nas eleições 2018, retornando valor pago e quantidade de beneficiarios\n",
    "df.query('descricao == \"MILITANCIA\"')['valor'].value_counts().head().plot(title='Militantes Pagos por politicos nas eleições 2018', kind='barh', figsize=(10,5))\n",
    "\n",
    "#Definindo descrição do Eixo X do grafico\n",
    "plt.xlabel(\"Beneficiarios que receberam o valor\")\n",
    "\n",
    "#Definindo descrição do Eixo Y do grafico\n",
    "plt.ylabel(\"Valor pago aos beneficiarios\")\n",
    "\n",
    "#Chamando a função\n",
    "PRINT_MILITANTE('descricao == \"MILITANCIA\"')\n"
   ]
  }
 ],
 "metadata": {
  "kernelspec": {
   "display_name": "Python 3",
   "language": "python",
   "name": "python3"
  },
  "language_info": {
   "codemirror_mode": {
    "name": "ipython",
    "version": 3
   },
   "file_extension": ".py",
   "mimetype": "text/x-python",
   "name": "python",
   "nbconvert_exporter": "python",
   "pygments_lexer": "ipython3",
   "version": "3.7.0"
  }
 },
 "nbformat": 4,
 "nbformat_minor": 2
}
